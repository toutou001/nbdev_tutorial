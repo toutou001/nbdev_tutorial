{
 "cells": [
  {
   "cell_type": "markdown",
   "id": "5b8cd9a8",
   "metadata": {},
   "source": [
    "#basic\n"
   ]
  },
  {
   "cell_type": "code",
   "execution_count": 1,
   "id": "a7c10815",
   "metadata": {},
   "outputs": [],
   "source": [
    "from nbdev_tutorial.core import *\n",
    "\n",
    "##import a function from another python file"
   ]
  },
  {
   "cell_type": "code",
   "execution_count": 2,
   "id": "6c7d9c55",
   "metadata": {},
   "outputs": [
    {
     "data": {
      "text/plain": [
       "4"
      ]
     },
     "execution_count": 2,
     "metadata": {},
     "output_type": "execute_result"
    }
   ],
   "source": [
    "add(1,3)"
   ]
  }
 ],
 "metadata": {
  "kernelspec": {
   "display_name": "Python 3 (ipykernel)",
   "language": "python",
   "name": "python3"
  },
  "language_info": {
   "codemirror_mode": {
    "name": "ipython",
    "version": 3
   },
   "file_extension": ".py",
   "mimetype": "text/x-python",
   "name": "python",
   "nbconvert_exporter": "python",
   "pygments_lexer": "ipython3",
   "version": "3.10.9"
  }
 },
 "nbformat": 4,
 "nbformat_minor": 5
}
